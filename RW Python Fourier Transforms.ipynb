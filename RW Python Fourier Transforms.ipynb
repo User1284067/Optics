{
 "cells": [
  {
   "cell_type": "code",
   "execution_count": 1,
   "id": "ef2cde26-9a54-4d90-ab28-52c549e70c00",
   "metadata": {},
   "outputs": [],
   "source": [
    "import numpy as np\n",
    "from numpy import sin, cos, tan, exp, log, pi, sqrt, abs\n",
    "from numpy.fft import fft, ifft\n",
    "import matplotlib.pyplot as plt"
   ]
  },
  {
   "cell_type": "code",
   "execution_count": 7,
   "id": "215c5cab-6dbd-4714-8e31-edfa5bf160f5",
   "metadata": {},
   "outputs": [],
   "source": [
    "'''define the spatial extent of the 1D image'''\n",
    "nPoints = 2**18 #should be a power of 2 for a fast fourier transform\n",
    "xlength = 100000 #we will work in units of micrometers - 100,000 μm = 100\n",
    "mm = 10 #cm\n",
    "wavelength = 0.5 #wavelength also in μm -> 500 nm\n",
    "xvals = np.linspace(-xlength/2, xlength/2, nPoints, False) #False indicates not to include +xlength/2 in array\n",
    "\n",
    "'''set up the frequency-domain variables (momentum) p = hbar k'''\n",
    "shortestSpatialPeriod = 2.*xlength/nPoints\n",
    "highestSpatialFrequency = 2*pi/shortestSpatialPeriod\n",
    "\n",
    "'''calculate the transverse momentum kx'''\n",
    "kx = np.linspace(-highestSpatialFrequency, highestSpatialFrequency,\n",
    "nPoints, False)\n",
    "kx = np.fft.ifftshift(kx) #shifts frequencies to match output of FFT.\n",
    "k = 2*pi/wavelength\n",
    "\n",
    "'''component of photon momentum in the forward direction'''\n",
    "kz = np.zeros([nPoints], dtype=float)\n",
    "\n",
    "'''create a mask for allowed regions of transverse momentum (kx < k)'''\n",
    "kmask = np.abs(kx) < k #creates a boolean array that is true whenever kx < k and false otherwise\n",
    "kz[kmask] = sqrt(k**2-kx[kmask]**2) #only calculate kz when kmask is true\n",
    "\n",
    "'''define the spatial extent of the 1D image'''\n",
    "nPoints = 2**18 #should be a power of 2 for a fast fourier transform\n",
    "xlength = 100000 #we will work in units of micrometers - 100,000 μm = 100\n",
    "mm = 10 #cm\n",
    "wavelength = 0.5 #wavelength also in μm -> 500 nm\n",
    "xvals = np.linspace(-xlength/2, xlength/2, nPoints, False) #False indicates not to include +xlength/2 in array\n",
    "\n",
    "'''set up the frequency-domain variables (momentum) p = hbar k'''\n",
    "shortestSpatialPeriod = 2.*xlength/nPoints\n",
    "highestSpatialFrequency = 2*pi/shortestSpatialPeriod\n",
    "\n",
    "'''calculate the transverse momentum kx'''\n",
    "kx = np.linspace(-highestSpatialFrequency, highestSpatialFrequency,nPoints, False)\n",
    "kx = np.fft.ifftshift(kx) #shifts frequencies to match output of FFT.\n",
    "k = 2*pi/wavelength\n",
    "\n",
    "'''component of photon momentum in the forward direction'''\n",
    "kz = np.zeros([nPoints], dtype=float)\n",
    "\n",
    "'''create a mask for allowed regions of transverse momentum (kx < k)'''\n",
    "kmask = np.abs(kx) < k #creates a boolean array that is true whenever kx < k and false otherwise\n",
    "kz[kmask] = sqrt(k**2-kx[kmask]**2) #only calculate kz when kmask is true"
   ]
  },
  {
   "cell_type": "code",
   "execution_count": 8,
   "id": "fd93589b-5ed0-4c1d-b819-8cb6443795d7",
   "metadata": {},
   "outputs": [],
   "source": [
    "'''define a function which will propagate an electric field \"image\" a distance z0 in a direction perpendicular to the image'''\n",
    "def propEfield(eField, z0) :\n",
    "    \n",
    "    '''eField is a (potentially) complex array for electric field \"image\" #z0 is the distance to propagate the image take the Fourier transform'''\n",
    "    eFieldFFT = fft(eField)\n",
    "    \n",
    "    '''make an array to hold the result after applying phase factors'''\n",
    "    propagateFFT = np.zeros([nPoints], dtype=complex)\n",
    "    propagateFFT[kmask] = eFieldFFT[kmask]*exp(1j*z0*k*k/kz[kmask]) #apply phase factor to Fourier-space image\n",
    "    \n",
    "    '''calculate the inverse fft and return the complex e-field'''\n",
    "    return ifft(propagateFFT)"
   ]
  },
  {
   "cell_type": "code",
   "execution_count": 11,
   "id": "a5d739a8-a04b-4372-8a61-2d017b32865d",
   "metadata": {},
   "outputs": [
    {
     "data": {
      "image/png": "[encoded data removed]",
      "text/plain": [
       "<Figure size 640x480 with 1 Axes>"
      ]
     },
     "metadata": {},
     "output_type": "display_data"
    }
   ],
   "source": [
    "'''Let's define our aperture array'''\n",
    "aperture = np.ones(nPoints) #completely flat E-field\n",
    "slitwidth = 100 #μm\n",
    "for i in range(nPoints) :\n",
    "    if -slitwidth/2 < xvals[i] < slitwidth/2 :\n",
    "        aperture[i] = 1.\n",
    "    else :\n",
    "        aperture[i] = 0.\n",
    "#taking square root of irradiance gives electric field \"image\" to pass to function\n",
    "eField = sqrt(aperture)\n",
    "z0 = 100000 # μm - used for both focal length of lens and propagation distance to get real fringes\n",
    "#eField = lensEfield(eField, z0) #applies a lens to e-field with a focal distance of 10 mm (in this case)\n",
    "#eField = propEfield(eField, z0) #propagate the electric field forward by z0 (10 mm in this case)\n",
    "screen = np.abs(eField)**2 #irradiance at the screen\n",
    "plt.plot(xvals,aperture, xvals, screen)\n",
    "plt.gca().set_xlim([-1000,1000])\n",
    "plt.show()"
   ]
  },
  {
   "cell_type": "code",
   "execution_count": null,
   "id": "382959b6-c959-42fb-bc43-f7dc2ccec92d",
   "metadata": {},
   "outputs": [],
   "source": []
  }
 ],
 "metadata": {
  "kernelspec": {
   "display_name": "Python 3 (ipykernel)",
   "language": "python",
   "name": "python3"
  },
  "language_info": {
   "codemirror_mode": {
    "name": "ipython",
    "version": 3
   },
   "file_extension": ".py",
   "mimetype": "text/x-python",
   "name": "python",
   "nbconvert_exporter": "python",
   "pygments_lexer": "ipython3",
   "version": "3.12.2"
  }
 },
 "nbformat": 4,
 "nbformat_minor": 5
}
